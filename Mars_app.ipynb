{
 "cells": [
  {
   "cell_type": "code",
   "execution_count": 1,
   "metadata": {},
   "outputs": [
    {
     "ename": "ModuleNotFoundError",
     "evalue": "No module named 'scrape_mars'",
     "output_type": "error",
     "traceback": [
      "\u001b[1;31m---------------------------------------------------------------------------\u001b[0m",
      "\u001b[1;31mModuleNotFoundError\u001b[0m                       Traceback (most recent call last)",
      "\u001b[1;32m<ipython-input-1-38eb784fd960>\u001b[0m in \u001b[0;36m<module>\u001b[1;34m()\u001b[0m\n\u001b[0;32m      1\u001b[0m \u001b[1;32mfrom\u001b[0m \u001b[0mflask\u001b[0m \u001b[1;32mimport\u001b[0m \u001b[0mFlask\u001b[0m\u001b[1;33m,\u001b[0m \u001b[0mrender_template\u001b[0m\u001b[1;33m,\u001b[0m \u001b[0mredirect\u001b[0m\u001b[1;33m\u001b[0m\u001b[0m\n\u001b[0;32m      2\u001b[0m \u001b[1;32mfrom\u001b[0m \u001b[0mflask_pymongo\u001b[0m \u001b[1;32mimport\u001b[0m \u001b[0mPyMongo\u001b[0m\u001b[1;33m\u001b[0m\u001b[0m\n\u001b[1;32m----> 3\u001b[1;33m \u001b[1;32mfrom\u001b[0m \u001b[0mscrape_mars\u001b[0m \u001b[1;32mimport\u001b[0m \u001b[0mscrape\u001b[0m\u001b[1;33m\u001b[0m\u001b[0m\n\u001b[0m\u001b[0;32m      4\u001b[0m \u001b[1;33m\u001b[0m\u001b[0m\n\u001b[0;32m      5\u001b[0m \u001b[0mapp\u001b[0m \u001b[1;33m=\u001b[0m \u001b[0mFlask\u001b[0m\u001b[1;33m(\u001b[0m\u001b[0m__name__\u001b[0m\u001b[1;33m)\u001b[0m\u001b[1;33m\u001b[0m\u001b[0m\n",
      "\u001b[1;31mModuleNotFoundError\u001b[0m: No module named 'scrape_mars'"
     ]
    }
   ],
   "source": [
    "from flask import Flask, render_template, redirect\n",
    "from flask_pymongo import PyMongo\n",
    "import scrape\n",
    "\n",
    "app = Flask(__name__)\n",
    "\n",
    "mongo = PyMongo(app)\n",
    "\n",
    "\n",
    "@app.route(\"/\")\n",
    "def index():\n",
    "    news_data = mongo.db.mars_data.find_one({'title' : 'Latest Mars News'})\n",
    "    featured_data = mongo.db.mars_data.find_one({'title' : 'Featured Image'})\n",
    "    weather_data = mongo.db.mars_data.find_one({'title' : 'Weather on Mars'})\n",
    "    facts_data = mongo.db.mars_data.find_one({'title' : 'Facts About Mars'})\n",
    "    hemi1_data = mongo.db.mars_data.find_one({'title' : 'Cerberus Hemisphere'})\n",
    "    hemi2_data = mongo.db.mars_data.find_one({'title' : 'Schiaparelli Hemisphere'})\n",
    "    hemi3_data = mongo.db.mars_data.find_one({'title' : 'Syrtis Major Hemisphere'})\n",
    "    hemi4_data = mongo.db.mars_data.find_one({'title' : 'Valles Marineris Hemisphere'})\n",
    "    return render_template(\"index.html\", news_data = news_data, featured_data = featured_data, weather_data = weather_data,\n",
    "                          facts_data = facts_data, hemi1_data = hemi1_data, hemi2_data = hemi2_data, hemi3_data = hemi3_data,\n",
    "                          hemi4_data = hemi4_data)\n",
    "\n",
    "\n",
    "@app.route(\"/scrape\")\n",
    "def scrape():\n",
    "    mongo.db.mars_data.drop()\n",
    "    mars_data = mongo.db.mars_data\n",
    "    data = scrape_mars.scrape()\n",
    "    mars_data.insert_many(data)\n",
    "    return redirect(\"http://localhost:5000/\", code = 302)\n",
    "\n",
    "\n",
    "if __name__ == \"__main__\":\n",
    "    app.run(debug=True)"
   ]
  },
  {
   "cell_type": "code",
   "execution_count": null,
   "metadata": {},
   "outputs": [],
   "source": []
  },
  {
   "cell_type": "code",
   "execution_count": null,
   "metadata": {},
   "outputs": [],
   "source": []
  }
 ],
 "metadata": {
  "kernelspec": {
   "display_name": "Python 3",
   "language": "python",
   "name": "python3"
  },
  "language_info": {
   "codemirror_mode": {
    "name": "ipython",
    "version": 3
   },
   "file_extension": ".py",
   "mimetype": "text/x-python",
   "name": "python",
   "nbconvert_exporter": "python",
   "pygments_lexer": "ipython3",
   "version": "3.6.4"
  }
 },
 "nbformat": 4,
 "nbformat_minor": 2
}
