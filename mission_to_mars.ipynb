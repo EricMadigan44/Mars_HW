{
 "cells": [
  {
   "cell_type": "code",
   "execution_count": 59,
   "metadata": {},
   "outputs": [],
   "source": [
    "# Dependencies\n",
    "from bs4 import BeautifulSoup\n",
    "import requests\n",
    "from splinter import Browser\n",
    "import pandas as pd\n",
    "import urllib.request\n",
    "import time"
   ]
  },
  {
   "cell_type": "code",
   "execution_count": 60,
   "metadata": {},
   "outputs": [],
   "source": [
    "#Here we are creating a empty list to store scraped data\n",
    "mars_data_list = []\n",
    "\n",
    "# URL of mars news from nasa \n",
    "mars_news_url = 'https://mars.nasa.gov/news/'\n",
    "\n",
    "# Path for Chromedriver to execute \n",
    "executable_path = {'executable_path': 'chromedriver.exe'}\n",
    "\n",
    "# Launch Chrome browser\n",
    "browser = Browser('chrome', **executable_path, headless=False)"
   ]
  },
  {
   "cell_type": "code",
   "execution_count": 61,
   "metadata": {},
   "outputs": [],
   "source": [
    "# Go to url to get news about mars\n",
    "browser.visit(mars_news_url)\n",
    "\n",
    "# Sleep for 3 seconds to delay\n",
    "time.sleep(3)"
   ]
  },
  {
   "cell_type": "code",
   "execution_count": 62,
   "metadata": {},
   "outputs": [],
   "source": [
    "# Get HTML from browser\n",
    "html = browser.html\n",
    "\n",
    "#Beautiful Soup \n",
    "\n",
    "# Turn HTML into BeautifulSoup object \n",
    "soup = BeautifulSoup(html, 'html.parser')\n",
    "\n",
    "# Retrieve the parent item for all news items on the website using beautiful Soup\n",
    "results = soup.find_all('li', class_='slide')"
   ]
  },
  {
   "cell_type": "code",
   "execution_count": 64,
   "metadata": {},
   "outputs": [
    {
     "name": "stdout",
     "output_type": "stream",
     "text": [
      "Rover engineers at JPL will try to restore percussive drilling on Mars this week, part of a larger series of tests that will last through summer.\n",
      "NASA's Curiosity Rover Aims to Get Its Rhythm Back\n"
     ]
    }
   ],
   "source": [
    "# Find the  header and paragraph text from the first news item on the website  \n",
    "news_paragraph = results[0].find('div', class_='article_teaser_body').text\n",
    "news_title = results[0].find('h3').text\n",
    "\n",
    "print(news_paragraph)\n",
    "print(news_title)\n",
    "\n",
    "# Add news title and news paragraph as a dictionary to list\n",
    "mars_data_list.append({'title':news_title, 'paragraph': news_paragraph})"
   ]
  },
  {
   "cell_type": "code",
   "execution_count": 23,
   "metadata": {},
   "outputs": [],
   "source": [
    "# Close and exit browser session\n",
    "browser.quit()"
   ]
  },
  {
   "cell_type": "code",
   "execution_count": 24,
   "metadata": {},
   "outputs": [],
   "source": [
    "# URL for featured image of Mars\n",
    "jpl_image_url = 'https://www.jpl.nasa.gov/spaceimages/?search=&category=Mars'\n",
    "\n",
    "# Retrieve page with the requests module\n",
    "response = requests.get(jpl_image_url)\n",
    "\n",
    "# Create BeautifulSoup object; parse with 'lxml'\n",
    "soup = BeautifulSoup(response.text, 'lxml')"
   ]
  },
  {
   "cell_type": "code",
   "execution_count": 25,
   "metadata": {},
   "outputs": [],
   "source": [
    "# Retrieve the item that has the url for featured image\n",
    "results = soup.find_all('a', class_='button fancybox')"
   ]
  },
  {
   "cell_type": "code",
   "execution_count": 26,
   "metadata": {},
   "outputs": [],
   "source": [
    "# Get url for featured image\n",
    "featured_image_url = 'https://www.jpl.nasa.gov'+results[0]['data-fancybox-href']"
   ]
  },
  {
   "cell_type": "code",
   "execution_count": 27,
   "metadata": {},
   "outputs": [],
   "source": [
    "# Add featured image as a dictionary to list# Add fe \n",
    "mars_data_list.append({'title':\"Featured Image\", 'img_url': featured_image_url})"
   ]
  },
  {
   "cell_type": "code",
   "execution_count": 28,
   "metadata": {},
   "outputs": [
    {
     "data": {
      "text/plain": [
       "('mars_featured-image.jpg', <http.client.HTTPMessage at 0x10e2f1892b0>)"
      ]
     },
     "execution_count": 28,
     "metadata": {},
     "output_type": "execute_result"
    }
   ],
   "source": [
    "# Save image\n",
    "urllib.request.urlretrieve(featured_image_url, 'mars_featured-image.jpg')"
   ]
  },
  {
   "cell_type": "code",
   "execution_count": 29,
   "metadata": {},
   "outputs": [],
   "source": [
    "# URL for Mars weather twitter account\n",
    "mars_twitter_url = 'https://twitter.com/marswxreport'\n",
    "\n",
    "# Retrieve page with the requests module\n",
    "response = requests.get(mars_twitter_url)\n",
    "\n",
    "# Create BeautifulSoup object; parse with 'lxml'\n",
    "soup = BeautifulSoup(response.text, 'lxml')"
   ]
  },
  {
   "cell_type": "code",
   "execution_count": 30,
   "metadata": {},
   "outputs": [],
   "source": [
    "# Retrieve parent item of tweets\n",
    "results = soup.find_all('div', class_='js-tweet-text-container')\n",
    "\n",
    "# Store first tweet\n",
    "mars_weather = results[0].find('p').text"
   ]
  },
  {
   "cell_type": "code",
   "execution_count": 31,
   "metadata": {},
   "outputs": [],
   "source": [
    "# Add weather as a dictionary to list\n",
    "mars_data_list.append({'title':\"Weather on Mars\", 'paragraph': mars_weather})"
   ]
  },
  {
   "cell_type": "code",
   "execution_count": 32,
   "metadata": {},
   "outputs": [],
   "source": [
    "# url for Mars facts\n",
    "mars_facts_url = \"https://space-facts.com/mars\"\n",
    "\n",
    "# Read table from url using pandas\n",
    "tables = pd.read_html(mars_facts_url)"
   ]
  },
  {
   "cell_type": "code",
   "execution_count": 35,
   "metadata": {},
   "outputs": [
    {
     "name": "stdout",
     "output_type": "stream",
     "text": [
      "                                                  1\n",
      "0                                                  \n",
      "Equatorial Diameter:                       6,792 km\n",
      "Polar Diameter:                            6,752 km\n",
      "Mass:                 6.42 x 10^23 kg (10.7% Earth)\n",
      "Moons:                          2 (Phobos & Deimos)\n",
      "Orbit Distance:            227,943,824 km (1.52 AU)\n",
      "Orbit Period:                  687 days (1.9 years)\n",
      "Surface Temperature:                  -153 to 20 °C\n",
      "First Record:                     2nd millennium BC\n",
      "Recorded By:                   Egyptian astronomers\n"
     ]
    }
   ],
   "source": [
    "df = tables[0].set_index(0)\n",
    "print(df)"
   ]
  },
  {
   "cell_type": "code",
   "execution_count": 36,
   "metadata": {},
   "outputs": [
    {
     "name": "stdout",
     "output_type": "stream",
     "text": [
      "                                                   \n",
      "0                                                  \n",
      "Equatorial Diameter:                       6,792 km\n",
      "Polar Diameter:                            6,752 km\n",
      "Mass:                 6.42 x 10^23 kg (10.7% Earth)\n",
      "Moons:                          2 (Phobos & Deimos)\n",
      "Orbit Distance:            227,943,824 km (1.52 AU)\n",
      "Orbit Period:                  687 days (1.9 years)\n",
      "Surface Temperature:                  -153 to 20 °C\n",
      "First Record:                     2nd millennium BC\n",
      "Recorded By:                   Egyptian astronomers\n"
     ]
    }
   ],
   "source": [
    "df.rename(columns={1:''}, inplace=True)\n",
    "print(df)"
   ]
  },
  {
   "cell_type": "code",
   "execution_count": 37,
   "metadata": {},
   "outputs": [],
   "source": [
    "del(df.index.name)"
   ]
  },
  {
   "cell_type": "code",
   "execution_count": 39,
   "metadata": {},
   "outputs": [
    {
     "name": "stdout",
     "output_type": "stream",
     "text": [
      "                                                   \n",
      "Equatorial Diameter:                       6,792 km\n",
      "Polar Diameter:                            6,752 km\n",
      "Mass:                 6.42 x 10^23 kg (10.7% Earth)\n",
      "Moons:                          2 (Phobos & Deimos)\n",
      "Orbit Distance:            227,943,824 km (1.52 AU)\n",
      "Orbit Period:                  687 days (1.9 years)\n",
      "Surface Temperature:                  -153 to 20 °C\n",
      "First Record:                     2nd millennium BC\n",
      "Recorded By:                   Egyptian astronomers\n"
     ]
    }
   ],
   "source": [
    "print(df)"
   ]
  },
  {
   "cell_type": "code",
   "execution_count": 40,
   "metadata": {},
   "outputs": [],
   "source": [
    "# Convert table to HTML\n",
    "mars_table_html = tables[0].to_html()"
   ]
  },
  {
   "cell_type": "code",
   "execution_count": 41,
   "metadata": {},
   "outputs": [
    {
     "data": {
      "text/plain": [
       "'<table border=\"1\" class=\"dataframe\">  <thead>    <tr style=\"text-align: right;\">      <th></th>      <th>0</th>      <th>1</th>    </tr>  </thead>  <tbody>    <tr>      <th>0</th>      <td>Equatorial Diameter:</td>      <td>6,792 km</td>    </tr>    <tr>      <th>1</th>      <td>Polar Diameter:</td>      <td>6,752 km</td>    </tr>    <tr>      <th>2</th>      <td>Mass:</td>      <td>6.42 x 10^23 kg (10.7% Earth)</td>    </tr>    <tr>      <th>3</th>      <td>Moons:</td>      <td>2 (Phobos &amp; Deimos)</td>    </tr>    <tr>      <th>4</th>      <td>Orbit Distance:</td>      <td>227,943,824 km (1.52 AU)</td>    </tr>    <tr>      <th>5</th>      <td>Orbit Period:</td>      <td>687 days (1.9 years)</td>    </tr>    <tr>      <th>6</th>      <td>Surface Temperature:</td>      <td>-153 to 20 °C</td>    </tr>    <tr>      <th>7</th>      <td>First Record:</td>      <td>2nd millennium BC</td>    </tr>    <tr>      <th>8</th>      <td>Recorded By:</td>      <td>Egyptian astronomers</td>    </tr>  </tbody></table>'"
      ]
     },
     "execution_count": 41,
     "metadata": {},
     "output_type": "execute_result"
    }
   ],
   "source": [
    "# Remove \\n from string\n",
    "mars_table_html = mars_table_html.replace('\\n', '')\n",
    "mars_table_html"
   ]
  },
  {
   "cell_type": "code",
   "execution_count": 42,
   "metadata": {},
   "outputs": [],
   "source": [
    "# Add table as a dictionary to list\n",
    "mars_data_list.append({'title':\"Facts About Mars\", 'table': mars_table_html})"
   ]
  },
  {
   "cell_type": "code",
   "execution_count": 43,
   "metadata": {},
   "outputs": [],
   "source": [
    "# url to search for Mars hemisphere images\n",
    "mars_hemi_url = 'https://astrogeology.usgs.gov/search/results?q=hemisphere+enhanced&k1=target&v1=Mars'\n",
    "\n",
    "# Retrieve page with requests module\n",
    "response = requests.get(mars_hemi_url)\n",
    "\n",
    "# Convert to BeautifulSoup object and parse with lxml\n",
    "soup = BeautifulSoup(response.text, 'lxml')"
   ]
  },
  {
   "cell_type": "code",
   "execution_count": 44,
   "metadata": {},
   "outputs": [],
   "source": [
    "# Retrieve parent item that has the search results\n",
    "results = soup.find_all('div', class_='item')\n"
   ]
  },
  {
   "cell_type": "code",
   "execution_count": 46,
   "metadata": {},
   "outputs": [],
   "source": [
    "# Loop through the search results\n",
    "for result in results:\n",
    "       \n",
    "    # Find the text from the h3 tag\n",
    "    img_title = result.find('h3').text\n",
    "    \n",
    "    # Strip out unwanted words\n",
    "    img_title = img_title.replace(' Enhanced', '')\n",
    "    \n",
    "    # Find the link to the image\n",
    "    link = result.find('a')['href']\n",
    "    \n",
    "    # Add in https... to link to create full url\n",
    "    full_link = 'https://astrogeology.usgs.gov' + link\n",
    "    \n",
    "    # Retrieve page using requests module\n",
    "    img_response = requests.get(full_link)\n",
    "    \n",
    "    # Convert to BeautifulSoup object and parse using lxml\n",
    "    img_soup = BeautifulSoup(img_response.text, 'lxml')\n",
    "    \n",
    "    # Find all div items that has the url information\n",
    "    img_results = img_soup.find_all('div', class_='downloads')\n",
    "    \n",
    "    # Find url in first result\n",
    "    img_url = img_results[0].find_all('a')[0]['href']\n",
    "       \n",
    "    # Add weather as a dictionary to list\n",
    "    mars_data_list.append({'title':img_title, 'img_url': img_url})\n",
    "    \n",
    "    # Replace spaces with dashes and add JPG as file name extension\n",
    "    img_file_name = img_title.replace(' ','-')+'.jpg'\n",
    "    \n",
    "    # Save image\n",
    "    urllib.request.urlretrieve(img_url, img_file_name)"
   ]
  },
  {
   "cell_type": "code",
   "execution_count": 49,
   "metadata": {},
   "outputs": [
    {
     "data": {
      "text/plain": [
       "[{'img_url': 'https://www.jpl.nasa.gov/spaceimages/images/mediumsize/PIA14400_ip.jpg',\n",
       "  'title': 'Featured Image'},\n",
       " {'paragraph': 'Sol 2054 (May 17, 2018), Sunny, high 4C/39F, low -72C/-97F, pressure at 7.40 hPa, daylight 05:21-17:20',\n",
       "  'title': 'Weather on Mars'},\n",
       " {'img_url': 'https://www.jpl.nasa.gov/spaceimages/images/mediumsize/PIA12826_ip.jpg',\n",
       "  'title': 'Featured Image'},\n",
       " {'paragraph': 'Sol 2054 (May 17, 2018), Sunny, high 4C/39F, low -72C/-97F, pressure at 7.40 hPa, daylight 05:21-17:20',\n",
       "  'title': 'Weather on Mars'},\n",
       " {'table': '<table border=\"1\" class=\"dataframe\">  <thead>    <tr style=\"text-align: right;\">      <th></th>      <th>0</th>      <th>1</th>    </tr>  </thead>  <tbody>    <tr>      <th>0</th>      <td>Equatorial Diameter:</td>      <td>6,792 km</td>    </tr>    <tr>      <th>1</th>      <td>Polar Diameter:</td>      <td>6,752 km</td>    </tr>    <tr>      <th>2</th>      <td>Mass:</td>      <td>6.42 x 10^23 kg (10.7% Earth)</td>    </tr>    <tr>      <th>3</th>      <td>Moons:</td>      <td>2 (Phobos &amp; Deimos)</td>    </tr>    <tr>      <th>4</th>      <td>Orbit Distance:</td>      <td>227,943,824 km (1.52 AU)</td>    </tr>    <tr>      <th>5</th>      <td>Orbit Period:</td>      <td>687 days (1.9 years)</td>    </tr>    <tr>      <th>6</th>      <td>Surface Temperature:</td>      <td>-153 to 20 °C</td>    </tr>    <tr>      <th>7</th>      <td>First Record:</td>      <td>2nd millennium BC</td>    </tr>    <tr>      <th>8</th>      <td>Recorded By:</td>      <td>Egyptian astronomers</td>    </tr>  </tbody></table>',\n",
       "  'title': 'Facts About Mars'},\n",
       " {'img_url': 'http://astropedia.astrogeology.usgs.gov/download/Mars/Viking/cerberus_enhanced.tif/full.jpg',\n",
       "  'title': 'Cerberus Hemisphere'},\n",
       " {'img_url': 'http://astropedia.astrogeology.usgs.gov/download/Mars/Viking/schiaparelli_enhanced.tif/full.jpg',\n",
       "  'title': 'Schiaparelli Hemisphere'},\n",
       " {'img_url': 'http://astropedia.astrogeology.usgs.gov/download/Mars/Viking/syrtis_major_enhanced.tif/full.jpg',\n",
       "  'title': 'Syrtis Major Hemisphere'},\n",
       " {'img_url': 'http://astropedia.astrogeology.usgs.gov/download/Mars/Viking/valles_marineris_enhanced.tif/full.jpg',\n",
       "  'title': 'Valles Marineris Hemisphere'}]"
      ]
     },
     "execution_count": 49,
     "metadata": {},
     "output_type": "execute_result"
    }
   ],
   "source": [
    "mars_data_list"
   ]
  },
  {
   "cell_type": "code",
   "execution_count": null,
   "metadata": {},
   "outputs": [],
   "source": []
  }
 ],
 "metadata": {
  "kernelspec": {
   "display_name": "Python 3",
   "language": "python",
   "name": "python3"
  },
  "language_info": {
   "codemirror_mode": {
    "name": "ipython",
    "version": 3
   },
   "file_extension": ".py",
   "mimetype": "text/x-python",
   "name": "python",
   "nbconvert_exporter": "python",
   "pygments_lexer": "ipython3",
   "version": "3.6.4"
  }
 },
 "nbformat": 4,
 "nbformat_minor": 2
}
